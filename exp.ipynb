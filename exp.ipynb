{
 "cells": [
  {
   "cell_type": "code",
   "execution_count": 6,
   "metadata": {},
   "outputs": [],
   "source": [
    "import numpy as np\n",
    "import torch\n",
    "import torch.nn as nn\n",
    "import numpy as np\n",
    "import torch.optim as optim\n",
    "import torch.nn.functional as F\n",
    "from torch.autograd import Variable\n",
    "import matplotlib.pyplot as plt\n",
    "%matplotlib inline"
   ]
  },
  {
   "cell_type": "code",
   "execution_count": 2,
   "metadata": {},
   "outputs": [],
   "source": [
    "def v(r):\n",
    "    return -2.3 * r**2 + r**4"
   ]
  },
  {
   "cell_type": "code",
   "execution_count": 3,
   "metadata": {},
   "outputs": [
    {
     "data": {
      "image/png": "[encoded data removed]",
      "text/plain": [
       "<Figure size 432x288 with 1 Axes>"
      ]
     },
     "metadata": {
      "needs_background": "light"
     },
     "output_type": "display_data"
    }
   ],
   "source": [
    "x = np.arange(0.,1.7,0.01)\n",
    "plt.plot(x,v(x))\n",
    "plt.show()"
   ]
  },
  {
   "cell_type": "code",
   "execution_count": 4,
   "metadata": {},
   "outputs": [
    {
     "name": "stdout",
     "output_type": "stream",
     "text": [
      "[-1.  -0.8 -0.6 -0.4 -0.2  0.   0.2  0.4  0.6  0.8  1. ]\n"
     ]
    }
   ],
   "source": [
    "c = np.array([i/5 for i in range(-5,6)])\n",
    "print(c)"
   ]
  },
  {
   "cell_type": "code",
   "execution_count": 11,
   "metadata": {},
   "outputs": [],
   "source": [
    "Xs = []\n",
    "Ys = []\n",
    "for i,t in enumerate(c):\n",
    "    X = []\n",
    "    while len(X) != 1000:\n",
    "        xi = np.random.uniform(low=0, high=1.7)\n",
    "        yi = v(xi)\n",
    "        if yi >= t - 10**-3 and yi < t + 10**-3:\n",
    "            X.append(xi)\n",
    "            Ys.append(i)\n",
    "    Xs.append(X)\n",
    "Xs = np.array(Xs)\n",
    "Ys = np.array(Ys)"
   ]
  },
  {
   "cell_type": "code",
   "execution_count": 12,
   "metadata": {},
   "outputs": [
    {
     "name": "stdout",
     "output_type": "stream",
     "text": [
      "(11, 1000)\n",
      "(11000,)\n"
     ]
    }
   ],
   "source": [
    "print(Xs.shape)\n",
    "print(Ys.shape)"
   ]
  },
  {
   "cell_type": "code",
   "execution_count": 13,
   "metadata": {},
   "outputs": [],
   "source": [
    "from sklearn.model_selection import train_test_split\n",
    "\n",
    "x_train, x_test, y_train, y_test = train_test_split(Xs.flatten(), Ys, test_size=0.1)"
   ]
  },
  {
   "cell_type": "code",
   "execution_count": 14,
   "metadata": {},
   "outputs": [
    {
     "name": "stdout",
     "output_type": "stream",
     "text": [
      "(9900,)\n"
     ]
    }
   ],
   "source": [
    "print(x_train.shape)"
   ]
  },
  {
   "cell_type": "code",
   "execution_count": 15,
   "metadata": {},
   "outputs": [
    {
     "name": "stdout",
     "output_type": "stream",
     "text": [
      "(9900,)\n"
     ]
    }
   ],
   "source": [
    "print(y_train.shape)"
   ]
  },
  {
   "cell_type": "code",
   "execution_count": 16,
   "metadata": {},
   "outputs": [
    {
     "name": "stdout",
     "output_type": "stream",
     "text": [
      "0.7627130035125302 -0.9995704865326165 0\n"
     ]
    }
   ],
   "source": [
    "print(x_train[0], v(x_train[0]), y_train[0])"
   ]
  },
  {
   "cell_type": "code",
   "execution_count": 43,
   "metadata": {},
   "outputs": [],
   "source": [
    "class classifier2(nn.Module):\n",
    "    def __init__(self, nlabel):\n",
    "        super(classifier, self).__init__()\n",
    "        self.main = nn.Sequential(\n",
    "            nn.Linear(1, 64),\n",
    "            nn.ReLU(),\n",
    "            nn.Linear(64, 64),\n",
    "            nn.ReLU(),\n",
    "            nn.Linear(64, nlabel),\n",
    "            #nn.Softmax(),\n",
    "        )\n",
    "\n",
    "    def forward(self, input):\n",
    "        return self.main(input)"
   ]
  },
  {
   "cell_type": "code",
   "execution_count": 52,
   "metadata": {},
   "outputs": [],
   "source": [
    "class classifier(nn.Module):\n",
    "    def __init__(self, nlabel):\n",
    "        super(classifier, self).__init__()\n",
    "        self.fc1 = nn.Linear(1, 64)\n",
    "        self.fc2 = nn.Linear(64, 64)\n",
    "        self.fc3 = nn.Linear(64, nlabel)\n",
    "\n",
    "    def forward(self, x):\n",
    "        x = F.relu(self.fc1(x))\n",
    "        xh = F.relu(self.fc2(x))\n",
    "        x = self.fc3(xh)\n",
    "        return x"
   ]
  },
  {
   "cell_type": "code",
   "execution_count": 53,
   "metadata": {},
   "outputs": [],
   "source": [
    "modelx = classifier(11).float()"
   ]
  },
  {
   "cell_type": "code",
   "execution_count": 54,
   "metadata": {},
   "outputs": [],
   "source": [
    "optimizer = optim.Adam(modelx.parameters())\n",
    "criterion = nn.CrossEntropyLoss()"
   ]
  },
  {
   "cell_type": "code",
   "execution_count": 55,
   "metadata": {},
   "outputs": [],
   "source": [
    "train = x_train\n",
    "labels = y_train"
   ]
  },
  {
   "cell_type": "code",
   "execution_count": 56,
   "metadata": {},
   "outputs": [],
   "source": [
    "def accuracy(predictions, labels):\n",
    "    classes = torch.argmax(predictions, dim=1)\n",
    "    return torch.mean((classes == labels).float())"
   ]
  },
  {
   "cell_type": "code",
   "execution_count": 58,
   "metadata": {},
   "outputs": [
    {
     "name": "stderr",
     "output_type": "stream",
     "text": [
      "/home/tdhttt/anaconda3/envs/qml/lib/python3.6/site-packages/torch/tensor.py:358: UserWarning: non-inplace resize is deprecated\n",
      "  warnings.warn(\"non-inplace resize is deprecated\")\n"
     ]
    },
    {
     "name": "stdout",
     "output_type": "stream",
     "text": [
      "0.5417272448539734\n",
      "[1/20] Loss: 0.923\n",
      "0.7855454683303833\n",
      "[2/20] Loss: 0.561\n",
      "0.8665454387664795\n",
      "[3/20] Loss: 0.213\n",
      "0.8825454711914062\n",
      "[4/20] Loss: 0.070\n",
      "0.8899999856948853\n",
      "[5/20] Loss: 0.038\n",
      "0.889090895652771\n",
      "[6/20] Loss: 0.080\n",
      "0.893818199634552\n",
      "[7/20] Loss: 0.168\n",
      "0.8926363587379456\n",
      "[8/20] Loss: 0.060\n",
      "0.8939090967178345\n",
      "[9/20] Loss: 0.022\n",
      "0.8934545516967773\n",
      "[10/20] Loss: 0.008\n",
      "0.8926363587379456\n",
      "[11/20] Loss: 0.005\n",
      "0.8930909037590027\n",
      "[12/20] Loss: 0.059\n",
      "0.8939999938011169\n",
      "[13/20] Loss: 0.149\n",
      "0.8960909247398376\n",
      "[14/20] Loss: 0.001\n",
      "0.8940908908843994\n",
      "[15/20] Loss: 0.002\n",
      "0.8962727189064026\n",
      "[16/20] Loss: 0.002\n",
      "0.8954545259475708\n",
      "[17/20] Loss: 0.001\n",
      "0.895545482635498\n",
      "[18/20] Loss: 0.001\n",
      "0.8961818218231201\n",
      "[19/20] Loss: 0.000\n",
      "0.8964545726776123\n",
      "[20/20] Loss: 0.012\n"
     ]
    }
   ],
   "source": [
    "epochs = 20\n",
    "for epoch in range(epochs):\n",
    "    losses = []\n",
    "    accs = []\n",
    "    acc = 0\n",
    "    for i, sample in enumerate(train):\n",
    "        inputv = Variable(torch.as_tensor([sample]).float())\n",
    "        labelsv = torch.tensor([labels[i]]).long()\n",
    "        \n",
    "        output = modelx(inputv).resize(1,11)\n",
    "        loss = criterion(output, labelsv)\n",
    "\n",
    "        optimizer.zero_grad()\n",
    "        loss.backward()\n",
    "        optimizer.step()\n",
    "        acc += accuracy(output, labelsv)\n",
    "    acc /= Ys.shape[0]\n",
    "    acc = acc.item()\n",
    "    losses.append(loss)\n",
    "    accs.append(acc)\n",
    "    print(acc)\n",
    "    print('[%d/%d] Loss: %.3f' % (epoch+1, epochs, loss))"
   ]
  },
  {
   "cell_type": "code",
   "execution_count": 81,
   "metadata": {},
   "outputs": [],
   "source": [
    "#w = list(modelx.parameters())\n",
    "#print(w[-3].shape)\n",
    "#\n",
    "#from sklearn.manifold import TSNE\n",
    "#\n",
    "#tsne = TSNE(n_components = 2, perplexity = 50)\n",
    "#Xw = w[-3].detach().numpy().reshape(-1,1)\n",
    "#Yw = tsne.fit_transform(Xw)\n",
    "#print(Xw.shape, Yw.shape)\n",
    "#\n",
    "#plt.scatter(Yw[:,0], Yw[:,1])\n",
    "#plt.show()"
   ]
  },
  {
   "cell_type": "code",
   "execution_count": 85,
   "metadata": {},
   "outputs": [
    {
     "name": "stdout",
     "output_type": "stream",
     "text": [
      "Sequential(\n",
      "  (0): Linear(in_features=1, out_features=64, bias=True)\n",
      "  (1): Linear(in_features=64, out_features=64, bias=True)\n",
      ")\n"
     ]
    }
   ],
   "source": [
    "modelx_hidden_layer = nn.Sequential(*[modelx.fc1,modelx.fc2])\n",
    "print(modelx_hidden_layer)"
   ]
  },
  {
   "cell_type": "code",
   "execution_count": 95,
   "metadata": {},
   "outputs": [],
   "source": [
    "import matplotlib.cm as cm\n",
    "from matplotlib.colors import Normalize\n",
    "\n",
    "norm = Normalize(vmin=0, vmax=11)\n",
    "cmap = cm.autumn\n",
    "hiddens = []\n",
    "color_hiddens = []\n",
    "for i, sample in enumerate(train):\n",
    "    inputv = Variable(torch.as_tensor([sample]).float())\n",
    "    output = modelx_hidden_layer(inputv)\n",
    "    hiddens.append((output.detach().numpy()))\n",
    "    color_hiddens.append(cmap(norm(labels[i])))"
   ]
  },
  {
   "cell_type": "code",
   "execution_count": 96,
   "metadata": {},
   "outputs": [],
   "source": [
    "from sklearn.manifold import TSNE\n",
    "tsne = TSNE(n_components=2, random_state=0, perplexity = 50)\n",
    "hiddens_tsne = tsne.fit_transform(hiddens)"
   ]
  },
  {
   "cell_type": "code",
   "execution_count": 97,
   "metadata": {},
   "outputs": [
    {
     "data": {
      "image/png": "[encoded data removed]",
      "text/plain": [
       "<Figure size 576x576 with 1 Axes>"
      ]
     },
     "metadata": {
      "needs_background": "light"
     },
     "output_type": "display_data"
    }
   ],
   "source": [
    "plt.figure(figsize=(8,8))\n",
    "plt.scatter(x=hiddens_tsne[:,0],y=hiddens_tsne[:,1],color=color_hiddens)\n",
    "plt.title(\"Perplexity = 50\")\n",
    "plt.show()"
   ]
  },
  {
   "cell_type": "code",
   "execution_count": null,
   "metadata": {},
   "outputs": [],
   "source": [
    "tsne = TSNE(n_components=2, random_state=0, perplexity = 100)\n",
    "hiddens_tsne = tsne.fit_transform(hiddens)\n",
    "plt.figure(figsize=(8,8))\n",
    "plt.scatter(x=hiddens_tsne[:,0],y=hiddens_tsne[:,1],color=color_hiddens)\n",
    "plt.title(\"Perplexity = 100\")\n",
    "plt.show()"
   ]
  },
  {
   "cell_type": "code",
   "execution_count": null,
   "metadata": {},
   "outputs": [],
   "source": []
  }
 ],
 "metadata": {
  "kernelspec": {
   "display_name": "Python 3",
   "language": "python",
   "name": "python3"
  },
  "language_info": {
   "codemirror_mode": {
    "name": "ipython",
    "version": 3
   },
   "file_extension": ".py",
   "mimetype": "text/x-python",
   "name": "python",
   "nbconvert_exporter": "python",
   "pygments_lexer": "ipython3",
   "version": "3.6.12"
  }
 },
 "nbformat": 4,
 "nbformat_minor": 4
}
